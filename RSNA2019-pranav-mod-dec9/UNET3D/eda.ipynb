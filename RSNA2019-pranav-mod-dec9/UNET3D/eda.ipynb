{
 "cells": [
  {
   "cell_type": "code",
   "execution_count": null,
   "metadata": {},
   "outputs": [],
   "source": [
    "import os\n",
    "import SimpleITK as sitk\n",
    "# img_root = '/mnt/data/LiverCT/Parenchyma/Mahajan/Images/compressed'\n",
    "img_root = '/mnt/data/LiverCT/Parenchyma/LITS/train'\n",
    "idx = ids[5]\n",
    "fpath = os.path.join(img_root, 'volume-'+str(idx)+'.nii')\n",
    "lpath = os.path.join(img_root, 'segmentation-'+str(idx)+'.nii')\n",
    "img = sitk.ReadImage(fpath)\n",
    "label = sitk.ReadImage(lpath)"
   ]
  },
  {
   "cell_type": "code",
   "execution_count": null,
   "metadata": {},
   "outputs": [],
   "source": [
    "img_arr = sitk.GetArrayFromImage(img)\n",
    "label_arr = sitk.GetArrayFromImage(label)\n",
    "print(img_arr.shape)\n",
    "print(label_arr.shape)"
   ]
  },
  {
   "cell_type": "code",
   "execution_count": null,
   "metadata": {},
   "outputs": [],
   "source": [
    "import matplotlib\n",
    "%matplotlib inline\n",
    "import matplotlib.pyplot as plt\n",
    "step = int(img_arr.shape[0])//10\n",
    "for idx in range(10):\n",
    "    plt.figure()\n",
    "    plt.subplot(1,2,1)\n",
    "    plt.imshow(img_arr[step*idx], cmap = 'gray')\n",
    "    plt.subplot(1,2,2)\n",
    "    plt.imshow(label_arr[step*idx], cmap = 'gray')"
   ]
  },
  {
   "cell_type": "code",
   "execution_count": null,
   "metadata": {},
   "outputs": [],
   "source": []
  }
 ],
 "metadata": {
  "kernelspec": {
   "display_name": "Python 3",
   "language": "python",
   "name": "python3"
  },
  "language_info": {
   "codemirror_mode": {
    "name": "ipython",
    "version": 3
   },
   "file_extension": ".py",
   "mimetype": "text/x-python",
   "name": "python",
   "nbconvert_exporter": "python",
   "pygments_lexer": "ipython3",
   "version": "3.5.2"
  }
 },
 "nbformat": 4,
 "nbformat_minor": 4
}
