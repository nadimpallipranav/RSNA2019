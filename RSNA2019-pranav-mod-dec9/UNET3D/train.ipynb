{
 "cells": [
  {
   "cell_type": "code",
   "execution_count": null,
   "metadata": {},
   "outputs": [],
   "source": [
    "%load_ext autoreload\n",
    "%autoreload 2\n",
    "import os\n",
    "import torch\n",
    "import torch.nn as nn\n",
    "import torch.optim as optim\n",
    "os.environ['CUDA_VISIBLE_DEVICES']='5,6'\n",
    "from unet3d import UNet\n",
    "import tqdm\n",
    "from torch.utils.data import DataLoader, Dataset\n",
    "from datasets import LiverDatasetRandom, LiverDatasetFixed\n",
    "import progressbar"
   ]
  },
  {
   "cell_type": "code",
   "execution_count": null,
   "metadata": {},
   "outputs": [],
   "source": [
    "trndataset = LiverDatasetFixed()\n",
    "valdataset = LiverDatasetFixed()\n",
    "trnloader = DataLoader(trndataset, batch_size = 4, shuffle = True, num_workers = 2)\n",
    "valloader = DataLoader(valdataset, batch_size = 2, shuffle = True, num_workers = 2)\n",
    "\n",
    "device = torch.device('cuda')\n",
    "net = UNet(n_class = 2);\n",
    "n_gpu = torch.cuda.device_count()\n",
    "net = nn.DataParallel(net, device_ids = list(range(n_gpu)))\n",
    "net.to(device);\n",
    "\n",
    "optimizer = optim.Adam(net.parameters(), lr=1e-4, weight_decay=5e-5)\n",
    "criterion = nn.CrossEntropyLoss()"
   ]
  },
  {
   "cell_type": "markdown",
   "metadata": {},
   "source": [
    "## training"
   ]
  },
  {
   "cell_type": "code",
   "execution_count": null,
   "metadata": {},
   "outputs": [],
   "source": [
    "for param in net.parameters():\n",
    "    param.requires_grad = True\n",
    "\n",
    "lenloader = len(trnloader)\n",
    "print('Total : ', lenloader)\n",
    "dataloader_iterator = iter(trnloader)\n",
    "tr_loss = 0\n",
    "epoch = 0\n",
    "for step in range(lenloader):\n",
    "    batch = next(dataloader_iterator)\n",
    "    images, labels  = batch['image'], batch['label']\n",
    "    inputs = images.to(device, dtype = torch.float)\n",
    "    labels = labels.to(device)\n",
    "    outputs = net(inputs)\n",
    "    loss = criterion(outputs, labels)\n",
    "    loss.backward()\n",
    "    if step % 5 == 0:\n",
    "        print('Step {} loss'.format(step) + ': {}'.format(loss.item()))\n",
    "    tr_loss += loss.item()\n",
    "    optimizer.step()\n",
    "    del inputs, labels, outputs\n",
    "epoch_loss = tr_loss/lenloader\n",
    "print('Training loss: {:.4f}'.format(epoch_loss))\n",
    "for param in net.parameters():\n",
    "    param.requires_grad = False\n",
    "model_save_file = os.path.join('./models', 'model_epoch{}.bin'.format(epoch))\n",
    "torch.save(net.module.state_dict(), model_save_file)\n"
   ]
  },
  {
   "cell_type": "markdown",
   "metadata": {},
   "source": [
    "## data"
   ]
  },
  {
   "cell_type": "code",
   "execution_count": null,
   "metadata": {},
   "outputs": [],
   "source": [
    "each thread loads an image. \n",
    "for some time, they query patches from the current image\n",
    "when the patches from the image are over, they switch the image and go to the next image"
   ]
  },
  {
   "cell_type": "code",
   "execution_count": null,
   "metadata": {},
   "outputs": [],
   "source": [
    "import numpy as np\n",
    "from torch.utils.data import DataLoader, Dataset\n",
    "class OrderTestDataset(Dataset):    \n",
    "    def __len__(self):\n",
    "        return 50\n",
    "    \n",
    "    def __getitem__(self, idx):\n",
    "        print(idx)\n",
    "        return np.zeros([5,5])\n",
    "\n",
    "    \n",
    "trndset = OrderTestDataset()\n",
    "trnloader = DataLoader(trndset, batch_size = 2, shuffle = False, num_workers = 2)\n",
    "\n",
    "for step, batch in enumerate(trnloader):\n",
    "    print(batch.shape)\n",
    "    break"
   ]
  },
  {
   "cell_type": "code",
   "execution_count": null,
   "metadata": {},
   "outputs": [],
   "source": [
    "each image has a patch count\n",
    "an image wont load a new image until all patches are extracted from this image"
   ]
  },
  {
   "cell_type": "code",
   "execution_count": null,
   "metadata": {},
   "outputs": [],
   "source": [
    "## make patchlocs.npy file"
   ]
  },
  {
   "cell_type": "code",
   "execution_count": null,
   "metadata": {},
   "outputs": [],
   "source": [
    "import numpy as np\n",
    "listids = [102, 103, 104, 105, 107, 108]\n",
    "patchlocdict = {}\n",
    "for imgid in listids:\n",
    "    patchlocs = []\n",
    "    for idx in range(50):\n",
    "        x, y, z = np.random.randint(100), np.random.randint(100), np.random.randint(100)\n",
    "        patchlocs.append([200+x,200+y,200+z])\n",
    "    patchlocdict[imgid] = patchlocs\n",
    "np.save('patchlocs.npy', patchlocdict)"
   ]
  },
  {
   "cell_type": "code",
   "execution_count": null,
   "metadata": {},
   "outputs": [],
   "source": [
    "class LiverDataset(Dataset):\n",
    "    def __init__(self, lits_id_list, nperimage, patchlocs, imgpshape, lblpshape):\n",
    "        self.lits_id_list = lits_id_list\n",
    "        self.nperimage = nperimage\n",
    "        self.notover = False\n",
    "        self.image = None\n",
    "        self.label = None\n",
    "        self.patchlocs = patchlocs\n",
    "        self.current_pidx = 0\n",
    "        self.imgpshape = imgpshape\n",
    "        self.lblpshape = lblpshape\n",
    "        \n",
    "    def __len__(self):\n",
    "        return self.nperimage*self.id_list\n",
    "\n",
    "    def _load_new_image(self, pidx):\n",
    "        listidx = pidx%self.nperimage\n",
    "        imgidx = self.lits_id_list[listidx]\n",
    "        lits_root = '/mnt/data/LiverCT/Parenchyma/LITS/train'\n",
    "        img_path = os.path.join(lits_root, 'volume-' + str(imgidx) + '.nii')\n",
    "        label_path = os.path.join(lits_root, 'segmentation-' + str(imgidx) + '.nii')\n",
    "        self.image = sitk.GetImageFromArray(sitk.ReadImage(img_path))\n",
    "        self.label = sitk.GetImageFromArray(sitk.ReadImage(label_path))\n",
    "        self.current_idx = 0\n",
    "        \n",
    "    def next_patch_for_current_image(self):\n",
    "        ploc = self.patchlocs[self.current_pidx]\n",
    "        self.current_idx += 1\n",
    "        ix, iy, iz = self.imgshape\n",
    "        _ix, ix_, _iy, iy_, _iz, iz_ = ix//2, ix - ix//2, iy//2, iy - iy//2, iz//2, iz - iz//2\n",
    "        lx, ly, lz = self.lblshape\n",
    "        _lx, lx_, _ly, ly_, _lz, lz_ = lx//2, lx - lx//2, ly//2, ly - ly//2, lz//2, lz - lz//2\n",
    "        imgpatch = self.image[ploc[0]-_ix:ploc[0]+ix_, ploc[1]-_iy:ploc[1]+iy_, ploc[2]-_iz:ploc[2]+iz_]\n",
    "        lblpatch = self.label[ploc[0]-_lx:ploc[0]+lx_, ploc[1]-_ly:ploc[1]+ly_, ploc[2]-_lz:ploc[2]+lz_]\n",
    "        return imgpatch, lblpatch\n",
    "    \n",
    "    def __getitem__(self, pidx):\n",
    "        if self.current_pidx == self.nperimage:\n",
    "            return next_patch_for_current_image()\n",
    "        else:\n",
    "            self._load_new_image(pidx) ## this idx should be mapped to the image\n",
    "            return next_patch_for_current_image()\n",
    "\n",
    "litsids = [102, 103, 104, 105, 107, 108]\n",
    "patchlocs = np.load('patchlocs.npy', allow_pickle = True)[()]\n",
    "trndset = LiverDataset(litsids, 50, patchlocs)\n",
    "trndset"
   ]
  }
 ],
 "metadata": {
  "kernelspec": {
   "display_name": "Python 3",
   "language": "python",
   "name": "python3"
  },
  "language_info": {
   "codemirror_mode": {
    "name": "ipython",
    "version": 3
   },
   "file_extension": ".py",
   "mimetype": "text/x-python",
   "name": "python",
   "nbconvert_exporter": "python",
   "pygments_lexer": "ipython3",
   "version": "3.7.3"
  }
 },
 "nbformat": 4,
 "nbformat_minor": 4
}
