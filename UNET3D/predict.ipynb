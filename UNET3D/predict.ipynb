{
 "cells": [
  {
   "cell_type": "code",
   "execution_count": null,
   "metadata": {},
   "outputs": [],
   "source": [
    "import os\n",
    "import numpy as np\n",
    "import SimpleITK as sitk\n",
    "import torch\n",
    "from torch.autograd import Variable\n",
    "from unet3d import UNet\n",
    "import progressbar\n",
    "os.environ['CUDA_VISIBLE_DEVICES']='0'"
   ]
  },
  {
   "cell_type": "code",
   "execution_count": null,
   "metadata": {},
   "outputs": [],
   "source": [
    "from iterator import BasicVolumeIterator\n",
    "from pred_utils import calc_pad_for_fit, calc_pad_for_pred_loss, crop_pad_width"
   ]
  },
  {
   "cell_type": "code",
   "execution_count": null,
   "metadata": {},
   "outputs": [],
   "source": [
    "patch_size = [116, 132, 132]\n",
    "out_size = [28, 44, 44]"
   ]
  },
  {
   "cell_type": "code",
   "execution_count": null,
   "metadata": {},
   "outputs": [],
   "source": [
    "model = UNet(n_ch = 1, n_class = 2).cuda()\n",
    "ckpt = torch.load('./models/model_epoch90.bin')\n",
    "model.load_state_dict(ckpt);"
   ]
  },
  {
   "cell_type": "code",
   "execution_count": null,
   "metadata": {},
   "outputs": [],
   "source": [
    "img_path = '/mnt/data/LiverCT/Parenchyma/LITS/volume-100.nii'\n",
    "img = sitk.ReadImage(img_path)\n",
    "img_arr = sitk.GetArrayFromImage(img)\n",
    "print('img arr shape : ', img_arr.shape)\n",
    "pad_size1 = calc_pad_for_fit(img_arr.shape, out_size)\n",
    "print('pad size 1 : ', pad_size1)\n",
    "pad_size2 = calc_pad_for_pred_loss(patch_size, out_size)\n",
    "print('pad size 2 : ', pad_size2)\n",
    "pad_size_to_crop = pad_size1\n",
    "tot_pad_size = [(x[0]+y[0], x[1]+y[1]) for x,y in zip(pad_size1, pad_size2)]\n",
    "img_arr_padded = np.pad(img_arr, tot_pad_size, mode = 'constant')\n",
    "zeros_arr = np.zeros(img_arr.shape)\n",
    "dummy_output_arr_to_be_predicted = np.pad(zeros_arr, pad_size1, mode = 'constant')"
   ]
  },
  {
   "cell_type": "code",
   "execution_count": null,
   "metadata": {},
   "outputs": [],
   "source": [
    "inp_itr = BasicVolumeIterator(img_arr_padded, patch_size, out_size)\n",
    "out_itr = BasicVolumeIterator(dummy_output_arr_to_be_predicted, out_size, out_size)"
   ]
  },
  {
   "cell_type": "code",
   "execution_count": null,
   "metadata": {
    "scrolled": true
   },
   "outputs": [],
   "source": [
    "patch_count = out_itr.get_num_patches()\n",
    "bar = progressbar.ProgressBar(patch_count).start()\n",
    "count = 0\n",
    "print('Patch count : ', patch_count)\n",
    "while inp_itr.is_not_over():\n",
    "    input_arr = inp_itr.get_patch().reshape(1,1,116,132,132)\n",
    "    inp_itr.move_coords()\n",
    "    input_arr = Variable(torch.from_numpy(input_arr).float().cuda(), volatile = True)\n",
    "    pred_arr = model(input_arr)\n",
    "    pred_arr = pred_arr.argmax(dim = 1)\n",
    "    pred_arr = pred_arr.data.cpu().numpy()\n",
    "    unq = np.unique(pred_arr)\n",
    "    if count % 100 == 0:\n",
    "        if unq.max() > 0:\n",
    "            print(unq)\n",
    "    out_itr.set_patch(pred_arr[0])\n",
    "    out_itr.move_coords()\n",
    "    bar.update(count+1)\n",
    "    count = count + 1\n",
    "output_arr = out_itr.vol_array\n",
    "print(output_arr.shape)\n",
    "output_arr = crop_pad_width(output_arr, pad_size_to_crop)\n",
    "# np.save('/mnt/sdb1/intern_data/pix2pix_wbce_pet3d/test_outputs/0_pred.npy', output_arr)"
   ]
  },
  {
   "cell_type": "code",
   "execution_count": null,
   "metadata": {},
   "outputs": [],
   "source": [
    "print(img_arr.shape, output_arr.shape, pad_size1)"
   ]
  },
  {
   "cell_type": "code",
   "execution_count": null,
   "metadata": {
    "scrolled": true
   },
   "outputs": [],
   "source": [
    "import matplotlib\n",
    "%matplotlib inline\n",
    "import matplotlib.pyplot as plt\n",
    "import numpy as np\n",
    "\n",
    "print(np.unique(output_arr))\n",
    "# print(output_arr.sum())\n",
    "for idx in range(output_arr.shape[0]):\n",
    "    if idx %10 == 0:\n",
    "        print(idx)\n",
    "        plt.figure()\n",
    "        slc = output_arr[idx]\n",
    "        print(np.unique(slc))\n",
    "        plt.imshow(slc, cmap = 'gray')\n",
    "        plt.show()"
   ]
  }
 ],
 "metadata": {
  "kernelspec": {
   "display_name": "Python 3",
   "language": "python",
   "name": "python3"
  },
  "language_info": {
   "codemirror_mode": {
    "name": "ipython",
    "version": 3
   },
   "file_extension": ".py",
   "mimetype": "text/x-python",
   "name": "python",
   "nbconvert_exporter": "python",
   "pygments_lexer": "ipython3",
   "version": "3.5.2"
  }
 },
 "nbformat": 4,
 "nbformat_minor": 4
}
